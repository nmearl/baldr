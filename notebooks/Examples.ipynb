{
 "cells": [
  {
   "cell_type": "code",
   "execution_count": 1,
   "metadata": {},
   "outputs": [],
   "source": [
    "from baldr.app import Application"
   ]
  },
  {
   "cell_type": "code",
   "execution_count": 2,
   "metadata": {
    "scrolled": false
   },
   "outputs": [
    {
     "data": {
      "application/vnd.jupyter.widget-view+json": {
       "model_id": "2eae6b1aaba745d2a8c5e01331d38a7e",
       "version_major": 2,
       "version_minor": 0
      },
      "text/plain": [
       "Application(components={'b-toolbar': Toolbar(events=['load_data'], viewers=['Profile', 'Image']), 'b-navigatio…"
      ]
     },
     "metadata": {},
     "output_type": "display_data"
    },
    {
     "name": "stderr",
     "output_type": "stream",
     "text": [
      "WARNING: FITSFixedWarning: PLATEID = 7495 / Current plate \n",
      "a string value was expected. [astropy.wcs.wcs]\n",
      "WARNING:astropy:FITSFixedWarning: PLATEID = 7495 / Current plate \n",
      "a string value was expected.\n"
     ]
    }
   ],
   "source": [
    "app = Application()\n",
    "app\n",
    "\n",
    "# from ipymaterialui import Div"
   ]
  },
  {
   "cell_type": "code",
   "execution_count": null,
   "metadata": {},
   "outputs": [],
   "source": []
  },
  {
   "cell_type": "code",
   "execution_count": null,
   "metadata": {},
   "outputs": [],
   "source": [
    "# # from baldr.widgets.navigation_drawer import NavigationDrawer\n",
    "# # from glue_jupyter import JupyterApplication\n",
    "\n",
    "# # jglue = JupyterApplication()\n",
    "# # hub = jglue.data_collection.hub\n",
    "\n",
    "# # nav = NavigationDrawer(hub=hub)\n",
    "# # nav.items.append({'title': 'boop', 'icon': 'dashboard'})\n",
    "# # nav\n",
    "\n",
    "# from traitlets import *\n",
    "# import ipyvuetify as v\n",
    "# import ipywidgets as w\n",
    "# from ipywidgets import IntSlider\n",
    "\n",
    "\n",
    "# slider = IntSlider(\n",
    "#     value=7,\n",
    "#     min=0,\n",
    "#     max=10,\n",
    "#     step=1\n",
    "# )\n",
    "\n",
    "# select = v.Select(items=['identity', 'log', 'log10', 'log1p', 'log1p'], v_model='log', label='Transform')\n",
    "\n",
    "# class Test(v.VuetifyTemplate):\n",
    "    \n",
    "#     items = Any(['a', 'b']).tag(sync=True)\n",
    "#     current = Unicode('myselect').tag(sync=True)\n",
    "#     template = Unicode('''\n",
    "#         <v-layout column>\n",
    "#           <component v-bind:is=\"current\"></component>\n",
    "#         </v-layout>\n",
    "#     ''').tag(sync=True)\n",
    "    \n",
    "# test = Test(components={'myselect': select})\n",
    "# test"
   ]
  },
  {
   "cell_type": "code",
   "execution_count": null,
   "metadata": {},
   "outputs": [],
   "source": [
    "# test.components = {'myselect': select, 'myslider': slider}\n",
    "# test.current = 'myslider'"
   ]
  },
  {
   "cell_type": "code",
   "execution_count": null,
   "metadata": {},
   "outputs": [],
   "source": [
    "# class Test(v.VuetifyTemplate):\n",
    "    \n",
    "#     items = Any(['a', 'b']).tag(sync=True)\n",
    "#     current = Unicode('myselect').tag(sync=True)\n",
    "#     template = Unicode('''\n",
    "#         <v-layout column>\n",
    "#           <myselect/>\n",
    "#         </v-layout>\n",
    "#     ''').tag(sync=True)\n",
    "    \n",
    "# test = Test(components={'myselect': select})\n",
    "# test"
   ]
  },
  {
   "cell_type": "code",
   "execution_count": null,
   "metadata": {},
   "outputs": [],
   "source": [
    "# new_comps = {k:v for k,v in test.components.items()}\n",
    "# new_comps['myselect'] = slider\n",
    "\n",
    "# test.components = new_comps\n",
    "# test"
   ]
  },
  {
   "cell_type": "code",
   "execution_count": null,
   "metadata": {
    "scrolled": true
   },
   "outputs": [],
   "source": [
    "# from glue_jupyter import JupyterApplication\n",
    "\n",
    "# file_path = '/Users/nearl/data/cubeviz/MaNGA/manga-7495-12704-LOGCUBE.fits'\n",
    "\n",
    "# internal_app = JupyterApplication()\n",
    "# data = internal_app.load_data(file_path, auto_merge=False)\n",
    "# profile = internal_app.profile1d(data=data[0], show=False)\n",
    "\n",
    "# profile.viewer_options"
   ]
  },
  {
   "cell_type": "code",
   "execution_count": null,
   "metadata": {},
   "outputs": [],
   "source": []
  }
 ],
 "metadata": {
  "kernelspec": {
   "display_name": "Python 3",
   "language": "python",
   "name": "python3"
  },
  "language_info": {
   "codemirror_mode": {
    "name": "ipython",
    "version": 3
   },
   "file_extension": ".py",
   "mimetype": "text/x-python",
   "name": "python",
   "nbconvert_exporter": "python",
   "pygments_lexer": "ipython3",
   "version": "3.7.3"
  }
 },
 "nbformat": 4,
 "nbformat_minor": 2
}
